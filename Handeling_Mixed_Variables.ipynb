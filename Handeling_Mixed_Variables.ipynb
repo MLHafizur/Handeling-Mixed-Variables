{
  "nbformat": 4,
  "nbformat_minor": 0,
  "metadata": {
    "colab": {
      "name": "Handeling Mixed Variables.ipynb",
      "provenance": []
    },
    "kernelspec": {
      "name": "python3",
      "display_name": "Python 3"
    }
  },
  "cells": [
    {
      "cell_type": "code",
      "metadata": {
        "id": "vrL52R5NCOVF",
        "colab_type": "code",
        "colab": {
          "base_uri": "https://localhost:8080/",
          "height": 34
        },
        "outputId": "08644cea-a755-47d8-8963-aaaed1bae5d2"
      },
      "source": [
        "import numpy as np \n",
        "import pandas as pd\n",
        "import matplotlib.pyplot as plt\n",
        "import regex as re\n",
        "print('All Imported')"
      ],
      "execution_count": 1,
      "outputs": [
        {
          "output_type": "stream",
          "text": [
            "All Imported\n"
          ],
          "name": "stdout"
        }
      ]
    },
    {
      "cell_type": "markdown",
      "metadata": {
        "id": "6S0vGbksChjX",
        "colab_type": "text"
      },
      "source": [
        "# **Handeling Mixed Variables**"
      ]
    },
    {
      "cell_type": "code",
      "metadata": {
        "id": "TlP-x_Mb4Dk2",
        "colab_type": "code",
        "colab": {
          "base_uri": "https://localhost:8080/",
          "height": 204
        },
        "outputId": "6e0ffbd5-7b1d-4548-df26-70545fd86ceb"
      },
      "source": [
        "#Extract Number from String\n",
        "df = pd.DataFrame({'A': [1, 3, 1, 2, 3], 'B' : ['V2', 'W42', 'S03', 'T02', 'U71']})\n",
        "\n",
        "df.head()"
      ],
      "execution_count": 2,
      "outputs": [
        {
          "output_type": "execute_result",
          "data": {
            "text/html": [
              "<div>\n",
              "<style scoped>\n",
              "    .dataframe tbody tr th:only-of-type {\n",
              "        vertical-align: middle;\n",
              "    }\n",
              "\n",
              "    .dataframe tbody tr th {\n",
              "        vertical-align: top;\n",
              "    }\n",
              "\n",
              "    .dataframe thead th {\n",
              "        text-align: right;\n",
              "    }\n",
              "</style>\n",
              "<table border=\"1\" class=\"dataframe\">\n",
              "  <thead>\n",
              "    <tr style=\"text-align: right;\">\n",
              "      <th></th>\n",
              "      <th>A</th>\n",
              "      <th>B</th>\n",
              "    </tr>\n",
              "  </thead>\n",
              "  <tbody>\n",
              "    <tr>\n",
              "      <th>0</th>\n",
              "      <td>1</td>\n",
              "      <td>V2</td>\n",
              "    </tr>\n",
              "    <tr>\n",
              "      <th>1</th>\n",
              "      <td>3</td>\n",
              "      <td>W42</td>\n",
              "    </tr>\n",
              "    <tr>\n",
              "      <th>2</th>\n",
              "      <td>1</td>\n",
              "      <td>S03</td>\n",
              "    </tr>\n",
              "    <tr>\n",
              "      <th>3</th>\n",
              "      <td>2</td>\n",
              "      <td>T02</td>\n",
              "    </tr>\n",
              "    <tr>\n",
              "      <th>4</th>\n",
              "      <td>3</td>\n",
              "      <td>U71</td>\n",
              "    </tr>\n",
              "  </tbody>\n",
              "</table>\n",
              "</div>"
            ],
            "text/plain": [
              "   A    B\n",
              "0  1   V2\n",
              "1  3  W42\n",
              "2  1  S03\n",
              "3  2  T02\n",
              "4  3  U71"
            ]
          },
          "metadata": {
            "tags": []
          },
          "execution_count": 2
        }
      ]
    },
    {
      "cell_type": "code",
      "metadata": {
        "id": "pbZFdyhn48hf",
        "colab_type": "code",
        "colab": {
          "base_uri": "https://localhost:8080/",
          "height": 204
        },
        "outputId": "cd84f8c1-167a-4b30-e572-d9ff50e4c03f"
      },
      "source": [
        "df['C'] = df['B'].apply(lambda x: re.search(r'\\d+', x).group())\n",
        "#df.A.str.extract('(\\d+)')\n",
        "df.head()"
      ],
      "execution_count": 3,
      "outputs": [
        {
          "output_type": "execute_result",
          "data": {
            "text/html": [
              "<div>\n",
              "<style scoped>\n",
              "    .dataframe tbody tr th:only-of-type {\n",
              "        vertical-align: middle;\n",
              "    }\n",
              "\n",
              "    .dataframe tbody tr th {\n",
              "        vertical-align: top;\n",
              "    }\n",
              "\n",
              "    .dataframe thead th {\n",
              "        text-align: right;\n",
              "    }\n",
              "</style>\n",
              "<table border=\"1\" class=\"dataframe\">\n",
              "  <thead>\n",
              "    <tr style=\"text-align: right;\">\n",
              "      <th></th>\n",
              "      <th>A</th>\n",
              "      <th>B</th>\n",
              "      <th>C</th>\n",
              "    </tr>\n",
              "  </thead>\n",
              "  <tbody>\n",
              "    <tr>\n",
              "      <th>0</th>\n",
              "      <td>1</td>\n",
              "      <td>V2</td>\n",
              "      <td>2</td>\n",
              "    </tr>\n",
              "    <tr>\n",
              "      <th>1</th>\n",
              "      <td>3</td>\n",
              "      <td>W42</td>\n",
              "      <td>42</td>\n",
              "    </tr>\n",
              "    <tr>\n",
              "      <th>2</th>\n",
              "      <td>1</td>\n",
              "      <td>S03</td>\n",
              "      <td>03</td>\n",
              "    </tr>\n",
              "    <tr>\n",
              "      <th>3</th>\n",
              "      <td>2</td>\n",
              "      <td>T02</td>\n",
              "      <td>02</td>\n",
              "    </tr>\n",
              "    <tr>\n",
              "      <th>4</th>\n",
              "      <td>3</td>\n",
              "      <td>U71</td>\n",
              "      <td>71</td>\n",
              "    </tr>\n",
              "  </tbody>\n",
              "</table>\n",
              "</div>"
            ],
            "text/plain": [
              "   A    B   C\n",
              "0  1   V2   2\n",
              "1  3  W42  42\n",
              "2  1  S03  03\n",
              "3  2  T02  02\n",
              "4  3  U71  71"
            ]
          },
          "metadata": {
            "tags": []
          },
          "execution_count": 3
        }
      ]
    },
    {
      "cell_type": "code",
      "metadata": {
        "id": "LxhJgvIJ4ZUQ",
        "colab_type": "code",
        "colab": {
          "base_uri": "https://localhost:8080/",
          "height": 235
        },
        "outputId": "d120e1ac-890c-489c-cb08-91c59500c947"
      },
      "source": [
        "data = {'raw': ['Arizona 1 2014-12-23       3242.0',\n",
        "                'Iowa 1 2010-02-23       3453.7',\n",
        "                'Oregon 0 2014-06-20       2123.0',\n",
        "                'Maryland 0 2014-03-14       1123.6',\n",
        "                'Florida 1 2013-01-15       2134.0',\n",
        "                'Georgia 0 2012-07-14       2345.6']}\n",
        "df = pd.DataFrame(data, columns = ['raw'])\n",
        "df"
      ],
      "execution_count": 4,
      "outputs": [
        {
          "output_type": "execute_result",
          "data": {
            "text/html": [
              "<div>\n",
              "<style scoped>\n",
              "    .dataframe tbody tr th:only-of-type {\n",
              "        vertical-align: middle;\n",
              "    }\n",
              "\n",
              "    .dataframe tbody tr th {\n",
              "        vertical-align: top;\n",
              "    }\n",
              "\n",
              "    .dataframe thead th {\n",
              "        text-align: right;\n",
              "    }\n",
              "</style>\n",
              "<table border=\"1\" class=\"dataframe\">\n",
              "  <thead>\n",
              "    <tr style=\"text-align: right;\">\n",
              "      <th></th>\n",
              "      <th>raw</th>\n",
              "    </tr>\n",
              "  </thead>\n",
              "  <tbody>\n",
              "    <tr>\n",
              "      <th>0</th>\n",
              "      <td>Arizona 1 2014-12-23       3242.0</td>\n",
              "    </tr>\n",
              "    <tr>\n",
              "      <th>1</th>\n",
              "      <td>Iowa 1 2010-02-23       3453.7</td>\n",
              "    </tr>\n",
              "    <tr>\n",
              "      <th>2</th>\n",
              "      <td>Oregon 0 2014-06-20       2123.0</td>\n",
              "    </tr>\n",
              "    <tr>\n",
              "      <th>3</th>\n",
              "      <td>Maryland 0 2014-03-14       1123.6</td>\n",
              "    </tr>\n",
              "    <tr>\n",
              "      <th>4</th>\n",
              "      <td>Florida 1 2013-01-15       2134.0</td>\n",
              "    </tr>\n",
              "    <tr>\n",
              "      <th>5</th>\n",
              "      <td>Georgia 0 2012-07-14       2345.6</td>\n",
              "    </tr>\n",
              "  </tbody>\n",
              "</table>\n",
              "</div>"
            ],
            "text/plain": [
              "                                  raw\n",
              "0   Arizona 1 2014-12-23       3242.0\n",
              "1      Iowa 1 2010-02-23       3453.7\n",
              "2    Oregon 0 2014-06-20       2123.0\n",
              "3  Maryland 0 2014-03-14       1123.6\n",
              "4   Florida 1 2013-01-15       2134.0\n",
              "5   Georgia 0 2012-07-14       2345.6"
            ]
          },
          "metadata": {
            "tags": []
          },
          "execution_count": 4
        }
      ]
    },
    {
      "cell_type": "code",
      "metadata": {
        "id": "iAzPzpm853pn",
        "colab_type": "code",
        "colab": {
          "base_uri": "https://localhost:8080/",
          "height": 235
        },
        "outputId": "5d39e1b0-663c-45b5-a1e0-aee1d5e9f856"
      },
      "source": [
        "# Which rows of df['raw'] contain 'xxxx-xx-xx'?\n",
        "df.raw.str.contains('....-..-..', regex= True)\n",
        "\n",
        "# In the column 'raw', extract single digit in the strings\n",
        "df['gender'] = df.raw.str.extract('(\\d)', expand = True)\n",
        "\n",
        "# Extract the column of dates\n",
        "df['date'] = df.raw.str.extract('(....-..-..)', expand= True)\n",
        "\n",
        "# Extract the column of thousands\n",
        "df['score'] = df.raw.str.extract('(\\d\\d\\d\\d\\.\\d)', expand = True)\n",
        "\n",
        "#Extract the column of words \n",
        "df['state'] = df.raw.str.extract('([A-Z]\\w{0,})', expand = True)\n",
        "\n",
        "df"
      ],
      "execution_count": 5,
      "outputs": [
        {
          "output_type": "execute_result",
          "data": {
            "text/html": [
              "<div>\n",
              "<style scoped>\n",
              "    .dataframe tbody tr th:only-of-type {\n",
              "        vertical-align: middle;\n",
              "    }\n",
              "\n",
              "    .dataframe tbody tr th {\n",
              "        vertical-align: top;\n",
              "    }\n",
              "\n",
              "    .dataframe thead th {\n",
              "        text-align: right;\n",
              "    }\n",
              "</style>\n",
              "<table border=\"1\" class=\"dataframe\">\n",
              "  <thead>\n",
              "    <tr style=\"text-align: right;\">\n",
              "      <th></th>\n",
              "      <th>raw</th>\n",
              "      <th>gender</th>\n",
              "      <th>date</th>\n",
              "      <th>score</th>\n",
              "      <th>state</th>\n",
              "    </tr>\n",
              "  </thead>\n",
              "  <tbody>\n",
              "    <tr>\n",
              "      <th>0</th>\n",
              "      <td>Arizona 1 2014-12-23       3242.0</td>\n",
              "      <td>1</td>\n",
              "      <td>2014-12-23</td>\n",
              "      <td>3242.0</td>\n",
              "      <td>Arizona</td>\n",
              "    </tr>\n",
              "    <tr>\n",
              "      <th>1</th>\n",
              "      <td>Iowa 1 2010-02-23       3453.7</td>\n",
              "      <td>1</td>\n",
              "      <td>2010-02-23</td>\n",
              "      <td>3453.7</td>\n",
              "      <td>Iowa</td>\n",
              "    </tr>\n",
              "    <tr>\n",
              "      <th>2</th>\n",
              "      <td>Oregon 0 2014-06-20       2123.0</td>\n",
              "      <td>0</td>\n",
              "      <td>2014-06-20</td>\n",
              "      <td>2123.0</td>\n",
              "      <td>Oregon</td>\n",
              "    </tr>\n",
              "    <tr>\n",
              "      <th>3</th>\n",
              "      <td>Maryland 0 2014-03-14       1123.6</td>\n",
              "      <td>0</td>\n",
              "      <td>2014-03-14</td>\n",
              "      <td>1123.6</td>\n",
              "      <td>Maryland</td>\n",
              "    </tr>\n",
              "    <tr>\n",
              "      <th>4</th>\n",
              "      <td>Florida 1 2013-01-15       2134.0</td>\n",
              "      <td>1</td>\n",
              "      <td>2013-01-15</td>\n",
              "      <td>2134.0</td>\n",
              "      <td>Florida</td>\n",
              "    </tr>\n",
              "    <tr>\n",
              "      <th>5</th>\n",
              "      <td>Georgia 0 2012-07-14       2345.6</td>\n",
              "      <td>0</td>\n",
              "      <td>2012-07-14</td>\n",
              "      <td>2345.6</td>\n",
              "      <td>Georgia</td>\n",
              "    </tr>\n",
              "  </tbody>\n",
              "</table>\n",
              "</div>"
            ],
            "text/plain": [
              "                                  raw gender        date   score     state\n",
              "0   Arizona 1 2014-12-23       3242.0      1  2014-12-23  3242.0   Arizona\n",
              "1      Iowa 1 2010-02-23       3453.7      1  2010-02-23  3453.7      Iowa\n",
              "2    Oregon 0 2014-06-20       2123.0      0  2014-06-20  2123.0    Oregon\n",
              "3  Maryland 0 2014-03-14       1123.6      0  2014-03-14  1123.6  Maryland\n",
              "4   Florida 1 2013-01-15       2134.0      1  2013-01-15  2134.0   Florida\n",
              "5   Georgia 0 2012-07-14       2345.6      0  2012-07-14  2345.6   Georgia"
            ]
          },
          "metadata": {
            "tags": []
          },
          "execution_count": 5
        }
      ]
    },
    {
      "cell_type": "markdown",
      "metadata": {
        "id": "DrUNfqEP_JJF",
        "colab_type": "text"
      },
      "source": [
        "**Extract specific characters within a string : https://datatofish.com/left-right-mid-pandas/**"
      ]
    },
    {
      "cell_type": "markdown",
      "metadata": {
        "id": "74ONlDyOAMeW",
        "colab_type": "text"
      },
      "source": [
        "# **Example:**"
      ]
    },
    {
      "cell_type": "code",
      "metadata": {
        "id": "x_9y79i8CttO",
        "colab_type": "code",
        "colab": {}
      },
      "source": [
        "# load dataset from openML\n",
        "data = pd.read_csv('https://www.openml.org/data/get_csv/16826755/phpMYEkMl')\n",
        " \n",
        "# replace ? with np.nan\n",
        "data = data.replace('?', np.nan)\n",
        " \n",
        "# capture only first cabin when more than one is available\n",
        "def get_first_cabin(row):\n",
        "    try:\n",
        "        return row.split()[0]\n",
        "    except:\n",
        "        return np.nan\n",
        " \n",
        "data['cabin'] = data['cabin'].apply(get_first_cabin)\n",
        " \n",
        "# save to csv\n",
        "data.to_csv('titanic.csv', index=False)"
      ],
      "execution_count": 0,
      "outputs": []
    },
    {
      "cell_type": "code",
      "metadata": {
        "id": "hIMbN_FGnjpC",
        "colab_type": "code",
        "colab": {
          "base_uri": "https://localhost:8080/",
          "height": 272
        },
        "outputId": "ff08761f-85dc-4788-94d8-00bae11e5bac"
      },
      "source": [
        "data.head()"
      ],
      "execution_count": 7,
      "outputs": [
        {
          "output_type": "execute_result",
          "data": {
            "text/html": [
              "<div>\n",
              "<style scoped>\n",
              "    .dataframe tbody tr th:only-of-type {\n",
              "        vertical-align: middle;\n",
              "    }\n",
              "\n",
              "    .dataframe tbody tr th {\n",
              "        vertical-align: top;\n",
              "    }\n",
              "\n",
              "    .dataframe thead th {\n",
              "        text-align: right;\n",
              "    }\n",
              "</style>\n",
              "<table border=\"1\" class=\"dataframe\">\n",
              "  <thead>\n",
              "    <tr style=\"text-align: right;\">\n",
              "      <th></th>\n",
              "      <th>pclass</th>\n",
              "      <th>survived</th>\n",
              "      <th>name</th>\n",
              "      <th>sex</th>\n",
              "      <th>age</th>\n",
              "      <th>sibsp</th>\n",
              "      <th>parch</th>\n",
              "      <th>ticket</th>\n",
              "      <th>fare</th>\n",
              "      <th>cabin</th>\n",
              "      <th>embarked</th>\n",
              "      <th>boat</th>\n",
              "      <th>body</th>\n",
              "      <th>home.dest</th>\n",
              "    </tr>\n",
              "  </thead>\n",
              "  <tbody>\n",
              "    <tr>\n",
              "      <th>0</th>\n",
              "      <td>1</td>\n",
              "      <td>1</td>\n",
              "      <td>Allen, Miss. Elisabeth Walton</td>\n",
              "      <td>female</td>\n",
              "      <td>29</td>\n",
              "      <td>0</td>\n",
              "      <td>0</td>\n",
              "      <td>24160</td>\n",
              "      <td>211.3375</td>\n",
              "      <td>B5</td>\n",
              "      <td>S</td>\n",
              "      <td>2</td>\n",
              "      <td>NaN</td>\n",
              "      <td>St Louis, MO</td>\n",
              "    </tr>\n",
              "    <tr>\n",
              "      <th>1</th>\n",
              "      <td>1</td>\n",
              "      <td>1</td>\n",
              "      <td>Allison, Master. Hudson Trevor</td>\n",
              "      <td>male</td>\n",
              "      <td>0.9167</td>\n",
              "      <td>1</td>\n",
              "      <td>2</td>\n",
              "      <td>113781</td>\n",
              "      <td>151.55</td>\n",
              "      <td>C22</td>\n",
              "      <td>S</td>\n",
              "      <td>11</td>\n",
              "      <td>NaN</td>\n",
              "      <td>Montreal, PQ / Chesterville, ON</td>\n",
              "    </tr>\n",
              "    <tr>\n",
              "      <th>2</th>\n",
              "      <td>1</td>\n",
              "      <td>0</td>\n",
              "      <td>Allison, Miss. Helen Loraine</td>\n",
              "      <td>female</td>\n",
              "      <td>2</td>\n",
              "      <td>1</td>\n",
              "      <td>2</td>\n",
              "      <td>113781</td>\n",
              "      <td>151.55</td>\n",
              "      <td>C22</td>\n",
              "      <td>S</td>\n",
              "      <td>NaN</td>\n",
              "      <td>NaN</td>\n",
              "      <td>Montreal, PQ / Chesterville, ON</td>\n",
              "    </tr>\n",
              "    <tr>\n",
              "      <th>3</th>\n",
              "      <td>1</td>\n",
              "      <td>0</td>\n",
              "      <td>Allison, Mr. Hudson Joshua Creighton</td>\n",
              "      <td>male</td>\n",
              "      <td>30</td>\n",
              "      <td>1</td>\n",
              "      <td>2</td>\n",
              "      <td>113781</td>\n",
              "      <td>151.55</td>\n",
              "      <td>C22</td>\n",
              "      <td>S</td>\n",
              "      <td>NaN</td>\n",
              "      <td>135</td>\n",
              "      <td>Montreal, PQ / Chesterville, ON</td>\n",
              "    </tr>\n",
              "    <tr>\n",
              "      <th>4</th>\n",
              "      <td>1</td>\n",
              "      <td>0</td>\n",
              "      <td>Allison, Mrs. Hudson J C (Bessie Waldo Daniels)</td>\n",
              "      <td>female</td>\n",
              "      <td>25</td>\n",
              "      <td>1</td>\n",
              "      <td>2</td>\n",
              "      <td>113781</td>\n",
              "      <td>151.55</td>\n",
              "      <td>C22</td>\n",
              "      <td>S</td>\n",
              "      <td>NaN</td>\n",
              "      <td>NaN</td>\n",
              "      <td>Montreal, PQ / Chesterville, ON</td>\n",
              "    </tr>\n",
              "  </tbody>\n",
              "</table>\n",
              "</div>"
            ],
            "text/plain": [
              "   pclass  survived  ... body                        home.dest\n",
              "0       1         1  ...  NaN                     St Louis, MO\n",
              "1       1         1  ...  NaN  Montreal, PQ / Chesterville, ON\n",
              "2       1         0  ...  NaN  Montreal, PQ / Chesterville, ON\n",
              "3       1         0  ...  135  Montreal, PQ / Chesterville, ON\n",
              "4       1         0  ...  NaN  Montreal, PQ / Chesterville, ON\n",
              "\n",
              "[5 rows x 14 columns]"
            ]
          },
          "metadata": {
            "tags": []
          },
          "execution_count": 7
        }
      ]
    },
    {
      "cell_type": "code",
      "metadata": {
        "id": "pWSzbHI6nnqf",
        "colab_type": "code",
        "colab": {
          "base_uri": "https://localhost:8080/",
          "height": 204
        },
        "outputId": "cbd82ad3-5eb7-4d37-afc3-366e7f39217f"
      },
      "source": [
        "data = data[['ticket', 'cabin', 'survived']]\n",
        "data.head()"
      ],
      "execution_count": 8,
      "outputs": [
        {
          "output_type": "execute_result",
          "data": {
            "text/html": [
              "<div>\n",
              "<style scoped>\n",
              "    .dataframe tbody tr th:only-of-type {\n",
              "        vertical-align: middle;\n",
              "    }\n",
              "\n",
              "    .dataframe tbody tr th {\n",
              "        vertical-align: top;\n",
              "    }\n",
              "\n",
              "    .dataframe thead th {\n",
              "        text-align: right;\n",
              "    }\n",
              "</style>\n",
              "<table border=\"1\" class=\"dataframe\">\n",
              "  <thead>\n",
              "    <tr style=\"text-align: right;\">\n",
              "      <th></th>\n",
              "      <th>ticket</th>\n",
              "      <th>cabin</th>\n",
              "      <th>survived</th>\n",
              "    </tr>\n",
              "  </thead>\n",
              "  <tbody>\n",
              "    <tr>\n",
              "      <th>0</th>\n",
              "      <td>24160</td>\n",
              "      <td>B5</td>\n",
              "      <td>1</td>\n",
              "    </tr>\n",
              "    <tr>\n",
              "      <th>1</th>\n",
              "      <td>113781</td>\n",
              "      <td>C22</td>\n",
              "      <td>1</td>\n",
              "    </tr>\n",
              "    <tr>\n",
              "      <th>2</th>\n",
              "      <td>113781</td>\n",
              "      <td>C22</td>\n",
              "      <td>0</td>\n",
              "    </tr>\n",
              "    <tr>\n",
              "      <th>3</th>\n",
              "      <td>113781</td>\n",
              "      <td>C22</td>\n",
              "      <td>0</td>\n",
              "    </tr>\n",
              "    <tr>\n",
              "      <th>4</th>\n",
              "      <td>113781</td>\n",
              "      <td>C22</td>\n",
              "      <td>0</td>\n",
              "    </tr>\n",
              "  </tbody>\n",
              "</table>\n",
              "</div>"
            ],
            "text/plain": [
              "   ticket cabin  survived\n",
              "0   24160    B5         1\n",
              "1  113781   C22         1\n",
              "2  113781   C22         0\n",
              "3  113781   C22         0\n",
              "4  113781   C22         0"
            ]
          },
          "metadata": {
            "tags": []
          },
          "execution_count": 8
        }
      ]
    },
    {
      "cell_type": "code",
      "metadata": {
        "id": "cF2bAeWSn0WG",
        "colab_type": "code",
        "colab": {
          "base_uri": "https://localhost:8080/",
          "height": 1000
        },
        "outputId": "cfb4ece4-ce83-4566-b7ee-de3460f6b647"
      },
      "source": [
        "data.ticket.unique()"
      ],
      "execution_count": 9,
      "outputs": [
        {
          "output_type": "execute_result",
          "data": {
            "text/plain": [
              "array(['24160', '113781', '19952', '13502', '112050', '11769', 'PC 17609',\n",
              "       'PC 17757', 'PC 17477', '19877', '27042', 'PC 17318', 'PC 17558',\n",
              "       '11813', '13050', '11751', '111369', 'PC 17483', '13905', '11967',\n",
              "       'PC 17760', '110564', '113784', '112277', '36928', '113783',\n",
              "       '110489', 'PC 17608', '113505', '111427', '113054', 'PC 17591',\n",
              "       '112379', 'PC 17610', '16966', '113050', '113798', 'PC 17476',\n",
              "       'PC 17606', 'PC 17755', '695', '113059', '113760', '19924',\n",
              "       '17770', 'W.E.P. 5734', '113806', '110152', 'PC 17594', '112051',\n",
              "       '13508', '110465', '5727', 'PC 17756', '11770', '113791',\n",
              "       'WE/P 5735', '112901', 'PC 17599', '113055', '113804',\n",
              "       'F.C. 12750', '17474', '33638', 'PC 17761', '11755', 'PC 17485',\n",
              "       'PC 17580', '11767', '36947', 'PC 17531', 'PC 17598', '17421',\n",
              "       'PC 17474', '113051', '19950', '113778', 'PC 17611', '17765',\n",
              "       '13568', '13567', '112058', '113803', '111320', '113503', '112378',\n",
              "       'PC 17593', '17453', 'PC 17754', '113780', '112053', 'PC 17582',\n",
              "       'PC 17759', '11765', 'PC 17572', '113796', '36973', '112059',\n",
              "       '16988', '12749', '113038', '17463', '680', '111361', '113789',\n",
              "       '111426', '19943', 'PC 17600', '113572', 'PC 17595', '694',\n",
              "       '113044', '11771', '17464', '11753', '113028', '17465', 'PC 17612',\n",
              "       '17475', '112377', 'PC 17592', '113501', '113801', 'PC 17569',\n",
              "       '110469', '11774', '113773', 'PC 17482', 'PC 17473', 'PC 17604',\n",
              "       '13509', '19928', '13236', '113787', 'PC 17596', '35273', '11752',\n",
              "       '693', 'PC 17758', 'F.C. 12998', '113509', 'PC 17562', '112052',\n",
              "       '113043', '113776', '113786', '19972', 'PC 17607', 'PC 17590',\n",
              "       '111428', '113767', 'PC 17613', 'PC 17585', '13049', 'PC 17603',\n",
              "       '113790', '19988', '111163', '113794', 'PC 17475', '13507',\n",
              "       '13213', '113788', '113792', '17764', '13695', '113056', '21228',\n",
              "       '13214', '113514', '11778', 'PC 17605', '36963', '17466', '110413',\n",
              "       '19996', '2543', 'PC 17601', '111240', '36967', '110813', '113800',\n",
              "       '35281', '113795', 'PC 17597', '113510', '19947', '113807',\n",
              "       'P/PP 3381', '248744', '231945', 'C.A. 34050', '226875', '244346',\n",
              "       '29108', 'C.A. 31030', '28551', 'C.A./SOTON 34068', 'S.O.P. 1166',\n",
              "       '2908', '244358', '230136', '248698', '28404', '28425', '237670',\n",
              "       '211535', '220367', '248733', '29750', '236853', '27849', '234686',\n",
              "       '244310', '236852', '248738', 'F.C.C. 13528', '239853', '28424',\n",
              "       '244252', '248731', 'SC/AH 29037', '237789', '2003', 'W./C. 14263',\n",
              "       '248740', '28034', 'C.A. 31921', 'W./C. 14266', '237249',\n",
              "       'F.C.C. 13534', '29107', 'C.A. 33112', 'S.O.C. 14879', '237668',\n",
              "       '244360', 'SC/PARIS 2167', 'C.A. 31029', '231919', '28403',\n",
              "       '28220', 'SC/PARIS 2149', 'SC/PARIS 2148', '29751', '236854',\n",
              "       '236171', '2926', 'C.A. 15185', '229236', '239854', '237671',\n",
              "       '239865', '28664', '243880', '31028', 'C.A. 30769', '28133',\n",
              "       '28134', '248726', '233866', '12233', '250646', '250647', '250653',\n",
              "       '250649', '248746', '248727', 'S.W./PP 752', 'W/C 14208',\n",
              "       'F.C.C. 13529', '220845', '248706', '250650', '29105', '29104',\n",
              "       '242963', '250643', '26707', '237798', '24065', 'SCO/W 1585',\n",
              "       'SO/C 14885', '243847', '237565', 'C.A. 33111', 'SC/AH Basle 541',\n",
              "       '244367', '226593', '233734', '223596', '219533', '239855',\n",
              "       'C.A. 18723', '250651', '240261', 'SC/Paris 2123', 'SC 1748',\n",
              "       'C.A. 34260', 'SC/Paris 2163', 'C.A. 29566', '235509',\n",
              "       'SC/AH 3085', 'S.O./P.P. 3', '237735', 'S.C./PARIS 2079',\n",
              "       'SC/A.3 2861', '28228', '239059', '237216', '233478', '250644',\n",
              "       'SW/PP 751', '248723', '234360', 'C.A. 24580', '211536', '29011',\n",
              "       '250655', '240276', '237736', '230080', '244368', '218629',\n",
              "       'SC/PARIS 2166', 'C.A. 29395', '28213', 'W./C. 14260',\n",
              "       'SC/PARIS 2146', '244278', 'SC/PARIS 2147', 'SC 14888', '230433',\n",
              "       '28665', 'SC/PARIS 2131', '237393', 'S.O./P.P. 2', '234604',\n",
              "       'C.A. 34644', 'SC/PARIS 2168', '26360', 'C.A. 17248', '31027',\n",
              "       '230434', 'SC/PARIS 2133', '29106', 'W./C. 14258', '28004',\n",
              "       'C.A. 31026', '248659', '244361', '250652', '250648', '237442',\n",
              "       '234818', '28206', '31418', 'C.A. 29178', '237734', 'F.C.C. 13540',\n",
              "       '248734', 'F.C.C. 13531', '233639', '240929', '34218', '11668',\n",
              "       '28221', 'CA 31352', '28666', '239856', 'C.A. 33595', '27267',\n",
              "       '228414', '29103', 'C.A. 34651', 'C.A. 24579', 'SC/PARIS 2159',\n",
              "       '244270', '244373', '220844', '248747', 'C.A. 5547', 'C.A. 2673',\n",
              "       '348125', '348122', 'SOTON/O2 3101284', '2657', 'C 7076', '341826',\n",
              "       '7546', '392091', '2699', '3474', 'SOTON/O2 3101287',\n",
              "       'SOTON/O.Q. 3101311', 'SOTON/O.Q. 3101312', '373450', '2223',\n",
              "       'C 4001', '350046', '347082', '3101281', '347091', '350043',\n",
              "       '347075', '347466', '349202', '349237', '349911',\n",
              "       'SOTON/O.Q. 3101310', '347077', '350054', '2696', '2692',\n",
              "       'SOTON/O.Q. 3101309', '2627', '2694', '347468', '2687', '2679',\n",
              "       '3101278', '2666', 'A/4 31416', '2623', '349248', '2663', '2691',\n",
              "       '330844', '324669', '323951', '347068', 'PP 4348', '2622', '2648',\n",
              "       '1601', '312992', '347090', '349224', '2678', '2664', '364848',\n",
              "       '364849', '54636', '334914', '347471', '3460', 'A/5 21171',\n",
              "       '350045', '364512', '329944', '330920', '365222', '330963',\n",
              "       '315087', '315084', '315091', '315089', '315093', '315086',\n",
              "       '364846', '364858', 'A./5. 2152', '2689', '350042', '350409',\n",
              "       '367231', '368364', '392095', '343275', 'A/5. 13032', '343276',\n",
              "       '2680', 'SOTON/O.Q. 3101307', 'A/5 3540', '371109', '349210',\n",
              "       '349209', '21332', '335097', '370373', '330972', '370369',\n",
              "       'A/5 3536', '349230', '349229', '349231', 'SOTON/OQ 392090',\n",
              "       'C.A. 37671', '364500', 'S.P. 3464', '371362', '315090', '2698',\n",
              "       '7598', '7552', '349228', '382650', '382651', '347080', '349219',\n",
              "       '349203', 'A/4 48871', 'SC/A4 23568', 'A/4 48873', '386525',\n",
              "       '345572', '345774', '345778', 'C.A. 2315', '349250', '349238',\n",
              "       '349225', 'A/5 21172', 'A/5 21175', '330958', '349232', '315088',\n",
              "       '349226', '2686', '370376', 'A/5. 10482', '364516', '368702',\n",
              "       'SOTON/OQ 392083', '349241', '336439', 'S.O./P.P. 752', '347072',\n",
              "       '349912', '347074', '347061', '2674', '2675', '2690', '2695',\n",
              "       'A/5 3902', '2631', 'C.A. 6212', '367232', 'SOTON/O.Q. 3101308',\n",
              "       '350036', '364859', '364851', '368323', '330910', '365235',\n",
              "       'W./C. 6608', 'A/5 1478', '368573', 'SOTON/O.Q. 3101314', '36864',\n",
              "       '358585', '349254', '14973', '35851', '335677', '363291',\n",
              "       'SOTON/O.Q. 3101263', 'SOTON/O.Q. 3101306', 'CA 2144', '21440',\n",
              "       '8471', '376563', '7534', '3101276', '3101277', '347069', '349236',\n",
              "       'AQ/3. 30631', '65303', '65304', 'STON/O2. 3101279', '345769',\n",
              "       '2693', '350026', '350025', '350029', 'W./C. 6609', '374887',\n",
              "       '394140', '370375', '347089', '365226', 'STON/O2. 3101282',\n",
              "       'STON/O2. 3101290', '7548', '349243', '347086', '382649',\n",
              "       '3101298', 'C 7075', 'STON/O2. 3101283', '370377', 'A. 2. 39186',\n",
              "       '348121', '3470', '2685', '349220', 'STON/O2. 3101270',\n",
              "       'STON/O2. 3101271', '349201', '349240', '350034',\n",
              "       'SOTON/O.Q. 3101305', '350050', '350047', '350048', '14313',\n",
              "       '65306', '3101264', '347070', '350052', '7540', '347063', '347467',\n",
              "       '347742', 'LINE', '347062', 'W./C. 6607', '349204', '350417',\n",
              "       '350408', '4136', '4137', 'STON/O 2. 3101286', 'STON/O 2. 3101274',\n",
              "       '8475', '349246', '350053', '347465', '350060', '349256', '2700',\n",
              "       '2682', '12460', '323592', '9234', '14312', '330911', '363592',\n",
              "       '368783', '2660', '367227', '367229', '36865', '315152', '315151',\n",
              "       '315153', '350405', '350404', '349253', '2654', '2624', '4135',\n",
              "       '349217', 'C 7077', '7935', '7545', '347067', '347065', '2620',\n",
              "       '4133', 'STON/O 2. 3101292', '2683', '370371', '345781', '347071',\n",
              "       '347073', '349910', 'STON/O 2. 3101285', '330971', 'S.O./P.P. 251',\n",
              "       'A/5. 3336', '1222', 'A/5 21173', '315098', '347743', '347469',\n",
              "       '350403', '349235', 'C.A. 42795', '370370', 'C 17369',\n",
              "       'STON/O 2. 3101275', '330924', 'AQ/4 3130', 'A/S 2816',\n",
              "       'STON/O 2. 3101268', '2677', '364850', '36866', '2655', '349213',\n",
              "       '349257', '2649', '349255', '383123', '367228', '367226', '330932',\n",
              "       '36568', '330931', '330923', '9232', '370372', '376566', '370368',\n",
              "       'SOTON/O.Q. 392087', '343095', 'A.5. 11206', '368703', '345501',\n",
              "       '359306', '349233', '349211', '349207', '349221', '330980',\n",
              "       '348123', '392096', 'A4. 54510', '371110', '330877', '364506',\n",
              "       '372622', '312991', '2661', '2626', '374746', '35852', '382653',\n",
              "       'A./5. 3235', '367230', '347078', '349206', '2667', '2653',\n",
              "       'A./5. 3338', '349218', '2652', '365237', '349234', '2651',\n",
              "       '3101297', '363611', '347066', '347470', '350410',\n",
              "       'SOTON/O2 3101272', 'STON/O 2. 3101289', 'A/4. 39886', '2697',\n",
              "       '347081', '345364', '370365', '330979', '334912', '371060',\n",
              "       '366713', '7267', '364856', '14311', '330959', '347085', '368402',\n",
              "       '330919', 'C 17368', '4579', 'Fa 265302', '350407', '347464',\n",
              "       '347079', '6563', '315085', '315096', '315094', '349244', '330909',\n",
              "       '349909', '3101295', '315097', '3411', '349242',\n",
              "       'SOTON/O.Q. 3101315', '343271', '345498', 'A/5 2817',\n",
              "       'STON/O 2. 3101294', 'STON/O 2. 3101291', 'A/5 21174', '347083',\n",
              "       '2668', '330935', '342441', '349245', '349212', '349215', '347076',\n",
              "       '347087', 'SOTON/O.Q. 392078', '349227', '315095', '315092',\n",
              "       '349223', '65305', '2629', '362316', '349249', '342684', '382652',\n",
              "       'STON/O 2. 3101273', '334915', '364498', 'A/5. 3337',\n",
              "       'S.C./A.4. 23567', '312993', '370129', '342712', 'A/5 3594',\n",
              "       'A/4. 20589', '383162', '2671', '2672', '2676', '367655',\n",
              "       'LP 1588', 'SOTON/O.Q. 3101262', 'CA. 2343', '7266', '343120',\n",
              "       '3101296', '2662', 'PP 9549', '345768', 'A/5. 2151', '342826',\n",
              "       '36209', '349222', '370374', '345779', '330968', '374910',\n",
              "       'SOTON/OQ 392082', '2669', '392092', '349251', 'STON/O 2. 3101280',\n",
              "       '3101265', '347088', '349214', 'SOTON/OQ 392086', '315037',\n",
              "       '384461', '335432', '348124', 'A.5. 18509', 'A.5. 3236',\n",
              "       'STON/OQ. 369943', '349208', '349239', 'CA. 2314', 'A/4 45380',\n",
              "       '3701', '349205', '7553', 'STON/O 2. 3101288', '315083', '347054',\n",
              "       'SOTON/OQ 392089', 'STON/O 2. 3101269', 'SOTON/OQ 392076',\n",
              "       '347060', '7538', '350035', '350033', '363294', '2625', '2621',\n",
              "       '2681', '2684', '32302', '376564', 'STON/O 2. 3101293', '383121',\n",
              "       '349216', '364499', '364511', '2673', '2641', '2650', '349247',\n",
              "       '4138', '4134', 'A/5. 851', '345773', '345777', '345780', '345770',\n",
              "       '345783', '345765', '345764', '345763', '2658', '350416', '350406',\n",
              "       '349252', '345767', '359309', 'C.A. 49867', 'SOTON/OQ 3101316',\n",
              "       '345775', '2688', '347064', '3101267', '3101266', '363272', '3410',\n",
              "       'S.O./P.P. 751', 'A/5 2466', 'SOTON/OQ 3101317', '315154',\n",
              "       'A/4. 34244', '345771', '2659', '2628', '2647', '2665', '2656',\n",
              "       '2670', '315082'], dtype=object)"
            ]
          },
          "metadata": {
            "tags": []
          },
          "execution_count": 9
        }
      ]
    },
    {
      "cell_type": "code",
      "metadata": {
        "id": "Q6fZpcxSoMjP",
        "colab_type": "code",
        "colab": {
          "base_uri": "https://localhost:8080/",
          "height": 357
        },
        "outputId": "d9536a08-db8b-47d2-f28e-a5039c234223"
      },
      "source": [
        "data.cabin.unique()"
      ],
      "execution_count": 10,
      "outputs": [
        {
          "output_type": "execute_result",
          "data": {
            "text/plain": [
              "array(['B5', 'C22', 'E12', 'D7', 'A36', 'C101', nan, 'C62', 'B35', 'A23',\n",
              "       'B58', 'D15', 'C6', 'D35', 'C148', 'C97', 'B49', 'C99', 'C52', 'T',\n",
              "       'A31', 'C7', 'C103', 'D22', 'E33', 'A21', 'B10', 'B4', 'E40',\n",
              "       'B38', 'E24', 'B51', 'B96', 'C46', 'E31', 'E8', 'B61', 'B77', 'A9',\n",
              "       'C89', 'A14', 'E58', 'E49', 'E52', 'E45', 'B22', 'B26', 'C85',\n",
              "       'E17', 'B71', 'B20', 'A34', 'C86', 'A16', 'A20', 'A18', 'C54',\n",
              "       'C45', 'D20', 'A29', 'C95', 'E25', 'C111', 'C23', 'E36', 'D34',\n",
              "       'D40', 'B39', 'B41', 'B102', 'C123', 'E63', 'C130', 'B86', 'C92',\n",
              "       'A5', 'C51', 'B42', 'C91', 'C125', 'D10', 'B82', 'E50', 'D33',\n",
              "       'C83', 'B94', 'D49', 'D45', 'B69', 'B11', 'E46', 'C39', 'B18',\n",
              "       'D11', 'C93', 'B28', 'C49', 'B52', 'E60', 'C132', 'B37', 'D21',\n",
              "       'D19', 'C124', 'D17', 'B101', 'D28', 'D6', 'D9', 'B80', 'C106',\n",
              "       'B79', 'C47', 'D30', 'C90', 'E38', 'C78', 'C30', 'C118', 'D36',\n",
              "       'D48', 'D47', 'C105', 'B36', 'B30', 'D43', 'B24', 'C2', 'C65',\n",
              "       'B73', 'C104', 'C110', 'C50', 'B3', 'A24', 'A32', 'A11', 'A10',\n",
              "       'B57', 'C28', 'E44', 'A26', 'A6', 'A7', 'C31', 'A19', 'B45', 'E34',\n",
              "       'B78', 'B50', 'C87', 'C116', 'C55', 'D50', 'E68', 'E67', 'C126',\n",
              "       'C68', 'C70', 'C53', 'B19', 'D46', 'D37', 'D26', 'C32', 'C80',\n",
              "       'C82', 'C128', 'E39', 'D', 'F4', 'D56', 'F33', 'E101', 'E77', 'F2',\n",
              "       'D38', 'F', 'E121', 'E10', 'G6', 'F38'], dtype=object)"
            ]
          },
          "metadata": {
            "tags": []
          },
          "execution_count": 10
        }
      ]
    },
    {
      "cell_type": "markdown",
      "metadata": {
        "id": "v5mz8TxOoYGu",
        "colab_type": "text"
      },
      "source": [
        "Ticket and Cabin contain mixed(Numerical and Categorical) types of attributes. "
      ]
    },
    {
      "cell_type": "code",
      "metadata": {
        "id": "80OldJ7JooaJ",
        "colab_type": "code",
        "colab": {}
      },
      "source": [
        "# Extract numerical and categorical parts from cabine and ticket variables\n",
        "\n",
        "# Extract the first part of ticket as category.\n",
        "data['ticket_cat'] = data.ticket.apply(lambda x: x.split()[0])\n",
        "data['ticket_cat'] = np.where(data.ticket_cat.str.isdigit(), np.nan, data.ticket_cat)\n",
        "\n",
        "# Extract the last part of ticket as number.\n",
        "data['ticket_num'] = data.ticket.apply(lambda x: x.split()[-1])\n",
        "data['ticket_num'] = pd.to_numeric(data.ticket_num, errors = 'coerce', downcast = 'integer')\n",
        "\n",
        "\n",
        "# Extact the first part of cabine attribute as category\n",
        "data['cabin_cat'] = data.cabin.str[0]\n",
        "\n",
        "# Extact the last part of cabine attribute as number\n",
        "data['cabin_num'] = data.cabin.str.extract('(\\d+)')\n",
        " "
      ],
      "execution_count": 0,
      "outputs": []
    },
    {
      "cell_type": "code",
      "metadata": {
        "id": "KrD8e-S9uBJ9",
        "colab_type": "code",
        "colab": {
          "base_uri": "https://localhost:8080/",
          "height": 359
        },
        "outputId": "7e902dad-6469-4cdc-c4f7-097789dc5c9a"
      },
      "source": [
        "data.head(10)"
      ],
      "execution_count": 12,
      "outputs": [
        {
          "output_type": "execute_result",
          "data": {
            "text/html": [
              "<div>\n",
              "<style scoped>\n",
              "    .dataframe tbody tr th:only-of-type {\n",
              "        vertical-align: middle;\n",
              "    }\n",
              "\n",
              "    .dataframe tbody tr th {\n",
              "        vertical-align: top;\n",
              "    }\n",
              "\n",
              "    .dataframe thead th {\n",
              "        text-align: right;\n",
              "    }\n",
              "</style>\n",
              "<table border=\"1\" class=\"dataframe\">\n",
              "  <thead>\n",
              "    <tr style=\"text-align: right;\">\n",
              "      <th></th>\n",
              "      <th>ticket</th>\n",
              "      <th>cabin</th>\n",
              "      <th>survived</th>\n",
              "      <th>ticket_cat</th>\n",
              "      <th>ticket_num</th>\n",
              "      <th>cabin_cat</th>\n",
              "      <th>cabin_num</th>\n",
              "    </tr>\n",
              "  </thead>\n",
              "  <tbody>\n",
              "    <tr>\n",
              "      <th>0</th>\n",
              "      <td>24160</td>\n",
              "      <td>B5</td>\n",
              "      <td>1</td>\n",
              "      <td>NaN</td>\n",
              "      <td>24160.0</td>\n",
              "      <td>B</td>\n",
              "      <td>5</td>\n",
              "    </tr>\n",
              "    <tr>\n",
              "      <th>1</th>\n",
              "      <td>113781</td>\n",
              "      <td>C22</td>\n",
              "      <td>1</td>\n",
              "      <td>NaN</td>\n",
              "      <td>113781.0</td>\n",
              "      <td>C</td>\n",
              "      <td>22</td>\n",
              "    </tr>\n",
              "    <tr>\n",
              "      <th>2</th>\n",
              "      <td>113781</td>\n",
              "      <td>C22</td>\n",
              "      <td>0</td>\n",
              "      <td>NaN</td>\n",
              "      <td>113781.0</td>\n",
              "      <td>C</td>\n",
              "      <td>22</td>\n",
              "    </tr>\n",
              "    <tr>\n",
              "      <th>3</th>\n",
              "      <td>113781</td>\n",
              "      <td>C22</td>\n",
              "      <td>0</td>\n",
              "      <td>NaN</td>\n",
              "      <td>113781.0</td>\n",
              "      <td>C</td>\n",
              "      <td>22</td>\n",
              "    </tr>\n",
              "    <tr>\n",
              "      <th>4</th>\n",
              "      <td>113781</td>\n",
              "      <td>C22</td>\n",
              "      <td>0</td>\n",
              "      <td>NaN</td>\n",
              "      <td>113781.0</td>\n",
              "      <td>C</td>\n",
              "      <td>22</td>\n",
              "    </tr>\n",
              "    <tr>\n",
              "      <th>5</th>\n",
              "      <td>19952</td>\n",
              "      <td>E12</td>\n",
              "      <td>1</td>\n",
              "      <td>NaN</td>\n",
              "      <td>19952.0</td>\n",
              "      <td>E</td>\n",
              "      <td>12</td>\n",
              "    </tr>\n",
              "    <tr>\n",
              "      <th>6</th>\n",
              "      <td>13502</td>\n",
              "      <td>D7</td>\n",
              "      <td>1</td>\n",
              "      <td>NaN</td>\n",
              "      <td>13502.0</td>\n",
              "      <td>D</td>\n",
              "      <td>7</td>\n",
              "    </tr>\n",
              "    <tr>\n",
              "      <th>7</th>\n",
              "      <td>112050</td>\n",
              "      <td>A36</td>\n",
              "      <td>0</td>\n",
              "      <td>NaN</td>\n",
              "      <td>112050.0</td>\n",
              "      <td>A</td>\n",
              "      <td>36</td>\n",
              "    </tr>\n",
              "    <tr>\n",
              "      <th>8</th>\n",
              "      <td>11769</td>\n",
              "      <td>C101</td>\n",
              "      <td>1</td>\n",
              "      <td>NaN</td>\n",
              "      <td>11769.0</td>\n",
              "      <td>C</td>\n",
              "      <td>101</td>\n",
              "    </tr>\n",
              "    <tr>\n",
              "      <th>9</th>\n",
              "      <td>PC 17609</td>\n",
              "      <td>NaN</td>\n",
              "      <td>0</td>\n",
              "      <td>PC</td>\n",
              "      <td>17609.0</td>\n",
              "      <td>NaN</td>\n",
              "      <td>NaN</td>\n",
              "    </tr>\n",
              "  </tbody>\n",
              "</table>\n",
              "</div>"
            ],
            "text/plain": [
              "     ticket cabin  survived ticket_cat  ticket_num cabin_cat cabin_num\n",
              "0     24160    B5         1        NaN     24160.0         B         5\n",
              "1    113781   C22         1        NaN    113781.0         C        22\n",
              "2    113781   C22         0        NaN    113781.0         C        22\n",
              "3    113781   C22         0        NaN    113781.0         C        22\n",
              "4    113781   C22         0        NaN    113781.0         C        22\n",
              "5     19952   E12         1        NaN     19952.0         E        12\n",
              "6     13502    D7         1        NaN     13502.0         D         7\n",
              "7    112050   A36         0        NaN    112050.0         A        36\n",
              "8     11769  C101         1        NaN     11769.0         C       101\n",
              "9  PC 17609   NaN         0         PC     17609.0       NaN       NaN"
            ]
          },
          "metadata": {
            "tags": []
          },
          "execution_count": 12
        }
      ]
    },
    {
      "cell_type": "code",
      "metadata": {
        "id": "6q8Xk6fkvcWp",
        "colab_type": "code",
        "colab": {
          "base_uri": "https://localhost:8080/",
          "height": 153
        },
        "outputId": "c976a30b-848b-41bc-eccd-49828ab8e362"
      },
      "source": [
        "data.ticket_cat.unique()"
      ],
      "execution_count": 13,
      "outputs": [
        {
          "output_type": "execute_result",
          "data": {
            "text/plain": [
              "array([nan, 'PC', 'W.E.P.', 'WE/P', 'F.C.', 'P/PP', 'C.A.', 'C.A./SOTON',\n",
              "       'S.O.P.', 'F.C.C.', 'SC/AH', 'W./C.', 'S.O.C.', 'SC/PARIS',\n",
              "       'S.W./PP', 'W/C', 'SCO/W', 'SO/C', 'SC/Paris', 'SC', 'S.O./P.P.',\n",
              "       'S.C./PARIS', 'SC/A.3', 'SW/PP', 'CA', 'SOTON/O2', 'C',\n",
              "       'SOTON/O.Q.', 'A/4', 'PP', 'A/5', 'A./5.', 'A/5.', 'SOTON/OQ',\n",
              "       'S.P.', 'SC/A4', 'AQ/3.', 'STON/O2.', 'A.', 'LINE', 'STON/O',\n",
              "       'AQ/4', 'A/S', 'A.5.', 'A4.', 'A/4.', 'Fa', 'S.C./A.4.', 'LP',\n",
              "       'CA.', 'STON/OQ.'], dtype=object)"
            ]
          },
          "metadata": {
            "tags": []
          },
          "execution_count": 13
        }
      ]
    }
  ]
}